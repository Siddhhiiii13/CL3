{
 "cells": [
  {
   "cell_type": "code",
   "execution_count": 2,
   "id": "b31649f9",
   "metadata": {},
   "outputs": [
    {
     "name": "stdout",
     "output_type": "stream",
     "text": [
      "Best solution: 0.25482948126244875\n",
      "Maximum value: 3.9350619354795113\n"
     ]
    }
   ],
   "source": [
    "import random\n",
    "# Define the objective function\n",
    "def objective_function(x):\n",
    "    return -x**2 + 4\n",
    "\n",
    "# Generate initial population\n",
    "def generate_initial_population(pop_size=10):\n",
    "    return [random.uniform(-10, 10) for _ in range(pop_size)]\n",
    "\n",
    "# Calculate fitness of each antibody\n",
    "def calculate_fitness(population):\n",
    "    return [objective_function(x) for x in population]\n",
    "\n",
    "# Clone and mutate\n",
    "def clone_and_mutate(antibody, clone_factor=1):\n",
    "    # Simple mutation: slight random change\n",
    "    return antibody + random.uniform(-clone_factor, clone_factor)\n",
    "\n",
    "# The Clonal Selection Algorithm\n",
    "def clonal_selection(iterations=100, pop_size=10):\n",
    "    population = generate_initial_population(pop_size)\n",
    "    for _ in range(iterations):\n",
    "        # Calculate fitness\n",
    "        fitness = calculate_fitness(population)\n",
    "        \n",
    "        # Select the best half of the population\n",
    "        sorted_pop = [x for _, x in sorted(zip(fitness, population), reverse=True)]\n",
    "        selected = sorted_pop[:len(sorted_pop)//2]\n",
    "        \n",
    "        # Clone and mutate the selected antibodies\n",
    "        clones = [clone_and_mutate(x) for x in selected for _ in range(2)]  # Each selected antibody generates 2 clones\n",
    "        \n",
    "        # Form new population with clones and calculate new fitness\n",
    "        population = clones\n",
    "        fitness = calculate_fitness(population)\n",
    "        \n",
    "        # Keep the best solution\n",
    "        best_index = fitness.index(max(fitness))\n",
    "    \n",
    "    return population[best_index]\n",
    "\n",
    "# Run the algorithm\n",
    "best_solution = clonal_selection()\n",
    "print(f\"Best solution: {best_solution}\")\n",
    "print(f\"Maximum value: {objective_function(best_solution)}\")\n"
   ]
  },
  {
   "cell_type": "code",
   "execution_count": null,
   "id": "59aded91",
   "metadata": {},
   "outputs": [],
   "source": []
  }
 ],
 "metadata": {
  "kernelspec": {
   "display_name": "Python 3 (ipykernel)",
   "language": "python",
   "name": "python3"
  },
  "language_info": {
   "codemirror_mode": {
    "name": "ipython",
    "version": 3
   },
   "file_extension": ".py",
   "mimetype": "text/x-python",
   "name": "python",
   "nbconvert_exporter": "python",
   "pygments_lexer": "ipython3",
   "version": "3.11.7"
  }
 },
 "nbformat": 4,
 "nbformat_minor": 5
}
