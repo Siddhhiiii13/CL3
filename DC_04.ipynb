{
 "cells": [
  {
   "cell_type": "code",
   "execution_count": 2,
   "id": "d0639581",
   "metadata": {},
   "outputs": [
    {
     "name": "stdout",
     "output_type": "stream",
     "text": [
      "Hottest Year: 2017\n",
      "Coolest Year: 1901\n"
     ]
    }
   ],
   "source": [
    "import pandas as pd\n",
    "df = pd.read_csv(\"Weather.csv\")\n",
    "years = df['YEAR'].unique()\n",
    "\n",
    "\n",
    "# Function to find hottest/coolest year based on a flag (is_hottest)\n",
    "def find_extreme_year(years, data, is_hottest=True):\n",
    "    # Initialize variables\n",
    "    extreme_year = None\n",
    "    extreme_temp = float('-inf') if is_hottest else float('inf')\n",
    "    # Loop through unique years\n",
    "    for year in years:\n",
    "        # Filter data for that year\n",
    "        year_data = data[data['YEAR'] == year]\n",
    "        # Calculate average temperature across all months\n",
    "        avg_temp = year_data.mean().mean()\n",
    "        # Update extreme values if necessary\n",
    "        if (is_hottest and avg_temp > extreme_temp) or (not is_hottest and avg_temp < extreme_temp):\n",
    "            extreme_year = year\n",
    "            extreme_temp = avg_temp\n",
    "    return extreme_year\n",
    "\n",
    "\n",
    "# Find hottest year\n",
    "hottest_year = find_extreme_year(years.copy(), df.copy())\n",
    "# Find coolest year\n",
    "coolest_year = find_extreme_year(years.copy(), df.copy(), False)\n",
    "\n",
    "print(f\"Hottest Year: {hottest_year}\")\n",
    "print(f\"Coolest Year: {coolest_year}\")"
   ]
  },
  {
   "cell_type": "code",
   "execution_count": null,
   "id": "346482ab",
   "metadata": {},
   "outputs": [],
   "source": []
  }
 ],
 "metadata": {
  "kernelspec": {
   "display_name": "Python 3 (ipykernel)",
   "language": "python",
   "name": "python3"
  },
  "language_info": {
   "codemirror_mode": {
    "name": "ipython",
    "version": 3
   },
   "file_extension": ".py",
   "mimetype": "text/x-python",
   "name": "python",
   "nbconvert_exporter": "python",
   "pygments_lexer": "ipython3",
   "version": "3.11.7"
  }
 },
 "nbformat": 4,
 "nbformat_minor": 5
}
